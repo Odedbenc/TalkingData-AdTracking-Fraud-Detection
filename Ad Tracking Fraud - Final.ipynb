{
 "cells": [
  {
   "cell_type": "markdown",
   "id": "9e041540",
   "metadata": {},
   "source": [
    "## TalkingData AdTracking Fraud Detection Challenge - Oded Ben Chetrit"
   ]
  },
  {
   "cell_type": "markdown",
   "id": "b759f196",
   "metadata": {},
   "source": [
    "### Data Description\n",
    "For this competition, the objective is to predict whether a user will download an app after clicking a mobile app advertisement.\n",
    "\n",
    "File descriptions - train.csv - the training set - train_sample.csv - 100,000 randomly-selected rows of training data, to inspect data before downloading full set. This can help you in a basic EDA process. - test.csv - the test set - sampleSubmission.csv - a sample submission file in the correct format\n",
    "\n",
    "#### Data fields\n",
    "Each row of the training data contains a click record, with the following features.\n",
    "\n",
    " - ip: ip address of click, meaning the IP \"source\" address where a user clicked from (device).\n",
    " - app: app id (each app has 1 id).\n",
    " - device: device type id of user mobile phone (e.g., iphone 6 plus, iphone 7, huawei mate 7, etc.)\n",
    " - os: os version id of user mobile phone\n",
    " - channel: channel id of mobile ad publisher\n",
    " - click_time: timestamp of click (UTC)\n",
    " - attributed_time: if user download the app for after clicking an ad, this is the time of the app download\n",
    " - is_attributed: the target that is to be predicted, indicating the app was downloaded (i.e. Y / Y_hat)"
   ]
  },
  {
   "cell_type": "code",
   "execution_count": 3,
   "id": "c8c9267c",
   "metadata": {},
   "outputs": [],
   "source": [
    "# Import packages:\n",
    "import numpy as np\n",
    "import pandas as pd\n",
    "import matplotlib.pyplot as plt\n",
    "import seaborn as sns\n",
    "from sklearn.model_selection import train_test_split\n",
    "from sklearn.ensemble import RandomForestClassifier, AdaBoostClassifier\n",
    "from sklearn.tree import DecisionTreeClassifier\n",
    "from sklearn.metrics import roc_auc_score\n",
    "from sklearn.model_selection import ParameterSampler\n",
    "from catboost import CatBoostClassifier\n",
    "from xgboost import XGBClassifier"
   ]
  },
  {
   "cell_type": "code",
   "execution_count": 4,
   "id": "8241d26f",
   "metadata": {},
   "outputs": [
    {
     "data": {
      "text/html": [
       "<div>\n",
       "<style scoped>\n",
       "    .dataframe tbody tr th:only-of-type {\n",
       "        vertical-align: middle;\n",
       "    }\n",
       "\n",
       "    .dataframe tbody tr th {\n",
       "        vertical-align: top;\n",
       "    }\n",
       "\n",
       "    .dataframe thead th {\n",
       "        text-align: right;\n",
       "    }\n",
       "</style>\n",
       "<table border=\"1\" class=\"dataframe\">\n",
       "  <thead>\n",
       "    <tr style=\"text-align: right;\">\n",
       "      <th></th>\n",
       "      <th>ip</th>\n",
       "      <th>app</th>\n",
       "      <th>device</th>\n",
       "      <th>os</th>\n",
       "      <th>channel</th>\n",
       "      <th>click_time</th>\n",
       "      <th>attributed_time</th>\n",
       "      <th>is_attributed</th>\n",
       "    </tr>\n",
       "  </thead>\n",
       "  <tbody>\n",
       "    <tr>\n",
       "      <th>0</th>\n",
       "      <td>87540</td>\n",
       "      <td>12</td>\n",
       "      <td>1</td>\n",
       "      <td>13</td>\n",
       "      <td>497</td>\n",
       "      <td>2017-11-07 09:30:38</td>\n",
       "      <td>NaN</td>\n",
       "      <td>0</td>\n",
       "    </tr>\n",
       "    <tr>\n",
       "      <th>1</th>\n",
       "      <td>105560</td>\n",
       "      <td>25</td>\n",
       "      <td>1</td>\n",
       "      <td>17</td>\n",
       "      <td>259</td>\n",
       "      <td>2017-11-07 13:40:27</td>\n",
       "      <td>NaN</td>\n",
       "      <td>0</td>\n",
       "    </tr>\n",
       "    <tr>\n",
       "      <th>2</th>\n",
       "      <td>101424</td>\n",
       "      <td>12</td>\n",
       "      <td>1</td>\n",
       "      <td>19</td>\n",
       "      <td>212</td>\n",
       "      <td>2017-11-07 18:05:24</td>\n",
       "      <td>NaN</td>\n",
       "      <td>0</td>\n",
       "    </tr>\n",
       "    <tr>\n",
       "      <th>3</th>\n",
       "      <td>94584</td>\n",
       "      <td>13</td>\n",
       "      <td>1</td>\n",
       "      <td>13</td>\n",
       "      <td>477</td>\n",
       "      <td>2017-11-07 04:58:08</td>\n",
       "      <td>NaN</td>\n",
       "      <td>0</td>\n",
       "    </tr>\n",
       "    <tr>\n",
       "      <th>4</th>\n",
       "      <td>68413</td>\n",
       "      <td>12</td>\n",
       "      <td>1</td>\n",
       "      <td>1</td>\n",
       "      <td>178</td>\n",
       "      <td>2017-11-09 09:00:09</td>\n",
       "      <td>NaN</td>\n",
       "      <td>0</td>\n",
       "    </tr>\n",
       "    <tr>\n",
       "      <th>...</th>\n",
       "      <td>...</td>\n",
       "      <td>...</td>\n",
       "      <td>...</td>\n",
       "      <td>...</td>\n",
       "      <td>...</td>\n",
       "      <td>...</td>\n",
       "      <td>...</td>\n",
       "      <td>...</td>\n",
       "    </tr>\n",
       "    <tr>\n",
       "      <th>99995</th>\n",
       "      <td>124883</td>\n",
       "      <td>11</td>\n",
       "      <td>1</td>\n",
       "      <td>19</td>\n",
       "      <td>122</td>\n",
       "      <td>2017-11-09 13:25:41</td>\n",
       "      <td>NaN</td>\n",
       "      <td>0</td>\n",
       "    </tr>\n",
       "    <tr>\n",
       "      <th>99996</th>\n",
       "      <td>85150</td>\n",
       "      <td>9</td>\n",
       "      <td>1</td>\n",
       "      <td>13</td>\n",
       "      <td>244</td>\n",
       "      <td>2017-11-07 11:25:43</td>\n",
       "      <td>NaN</td>\n",
       "      <td>0</td>\n",
       "    </tr>\n",
       "    <tr>\n",
       "      <th>99997</th>\n",
       "      <td>18839</td>\n",
       "      <td>3</td>\n",
       "      <td>1</td>\n",
       "      <td>13</td>\n",
       "      <td>19</td>\n",
       "      <td>2017-11-08 11:38:42</td>\n",
       "      <td>NaN</td>\n",
       "      <td>0</td>\n",
       "    </tr>\n",
       "    <tr>\n",
       "      <th>99998</th>\n",
       "      <td>114276</td>\n",
       "      <td>15</td>\n",
       "      <td>1</td>\n",
       "      <td>12</td>\n",
       "      <td>245</td>\n",
       "      <td>2017-11-08 17:55:21</td>\n",
       "      <td>NaN</td>\n",
       "      <td>0</td>\n",
       "    </tr>\n",
       "    <tr>\n",
       "      <th>99999</th>\n",
       "      <td>119349</td>\n",
       "      <td>14</td>\n",
       "      <td>1</td>\n",
       "      <td>15</td>\n",
       "      <td>401</td>\n",
       "      <td>2017-11-07 14:32:27</td>\n",
       "      <td>NaN</td>\n",
       "      <td>0</td>\n",
       "    </tr>\n",
       "  </tbody>\n",
       "</table>\n",
       "<p>100000 rows × 8 columns</p>\n",
       "</div>"
      ],
      "text/plain": [
       "           ip  app  device  os  channel           click_time attributed_time  \\\n",
       "0       87540   12       1  13      497  2017-11-07 09:30:38             NaN   \n",
       "1      105560   25       1  17      259  2017-11-07 13:40:27             NaN   \n",
       "2      101424   12       1  19      212  2017-11-07 18:05:24             NaN   \n",
       "3       94584   13       1  13      477  2017-11-07 04:58:08             NaN   \n",
       "4       68413   12       1   1      178  2017-11-09 09:00:09             NaN   \n",
       "...       ...  ...     ...  ..      ...                  ...             ...   \n",
       "99995  124883   11       1  19      122  2017-11-09 13:25:41             NaN   \n",
       "99996   85150    9       1  13      244  2017-11-07 11:25:43             NaN   \n",
       "99997   18839    3       1  13       19  2017-11-08 11:38:42             NaN   \n",
       "99998  114276   15       1  12      245  2017-11-08 17:55:21             NaN   \n",
       "99999  119349   14       1  15      401  2017-11-07 14:32:27             NaN   \n",
       "\n",
       "       is_attributed  \n",
       "0                  0  \n",
       "1                  0  \n",
       "2                  0  \n",
       "3                  0  \n",
       "4                  0  \n",
       "...              ...  \n",
       "99995              0  \n",
       "99996              0  \n",
       "99997              0  \n",
       "99998              0  \n",
       "99999              0  \n",
       "\n",
       "[100000 rows x 8 columns]"
      ]
     },
     "execution_count": 4,
     "metadata": {},
     "output_type": "execute_result"
    }
   ],
   "source": [
    "# Import Data\n",
    "train_sample = pd.read_csv('train_sample.csv')\n",
    "test = pd.read_csv('test.csv')\n",
    "train = pd.read_csv('train.csv')\n",
    "train_sample"
   ]
  },
  {
   "cell_type": "code",
   "execution_count": 5,
   "id": "de619d11",
   "metadata": {},
   "outputs": [
    {
     "name": "stdout",
     "output_type": "stream",
     "text": [
      "<class 'pandas.core.frame.DataFrame'>\n",
      "RangeIndex: 26877324 entries, 0 to 26877323\n",
      "Data columns (total 8 columns):\n",
      " #   Column           Non-Null Count     Dtype \n",
      "---  ------           --------------     ----- \n",
      " 0   ip               26877324 non-null  int64 \n",
      " 1   app              26877324 non-null  int64 \n",
      " 2   device           26877324 non-null  int64 \n",
      " 3   os               26877324 non-null  int64 \n",
      " 4   channel          26877324 non-null  int64 \n",
      " 5   click_time       26877324 non-null  object\n",
      " 6   attributed_time  64876 non-null     object\n",
      " 7   is_attributed    26877324 non-null  int64 \n",
      "dtypes: int64(6), object(2)\n",
      "memory usage: 1.6+ GB\n"
     ]
    }
   ],
   "source": [
    "train.info(show_counts= True)"
   ]
  },
  {
   "cell_type": "markdown",
   "id": "0722b992",
   "metadata": {},
   "source": [
    "From the info method above, we can see that data is full without missing data. The only column with missing data is 'attributed_time',  and the missing data there is due to non clicked ads. So it makes sense. \n",
    "Also, as we can see below, there is consistency between the amount of non-null attributed_time data to the count of samples where is_attributed feature was 1."
   ]
  },
  {
   "cell_type": "code",
   "execution_count": 4,
   "id": "479086cb",
   "metadata": {},
   "outputs": [
    {
     "data": {
      "text/plain": [
       "64876"
      ]
     },
     "execution_count": 4,
     "metadata": {},
     "output_type": "execute_result"
    }
   ],
   "source": [
    "np.sum(train.is_attributed == 1)"
   ]
  },
  {
   "cell_type": "code",
   "execution_count": 5,
   "id": "a1ed65de",
   "metadata": {},
   "outputs": [
    {
     "name": "stdout",
     "output_type": "stream",
     "text": [
      "The data is very imbalanced, only 0.24137819672821595% of the clicks ended in download of the apps\n"
     ]
    },
    {
     "data": {
      "image/png": "[encoded data removed]",
      "text/plain": [
       "<Figure size 864x648 with 1 Axes>"
      ]
     },
     "metadata": {},
     "output_type": "display_data"
    }
   ],
   "source": [
    "# total samples:\n",
    "total_clicks = train.is_attributed.size\n",
    "\n",
    "# total number of app downloads:\n",
    "total_downloads = train.is_attributed.sum()\n",
    "\n",
    "percent_downloads = 100 * total_downloads / total_clicks\n",
    "percent_not_downloads = 100 - percent_downloads\n",
    "\n",
    "print(f'The data is very imbalanced, only {percent_downloads}% of the clicks ended in download of the apps')\n",
    "plt.figure(figsize = (12,9))\n",
    "colors = sns.color_palette('pastel')[0:2]\n",
    "plt.pie([percent_downloads, percent_not_downloads], labels = ['Downloaded', 'Not downloaded'] ,colors = colors, autopct='%.3f%%')\n",
    "plt.show()"
   ]
  },
  {
   "cell_type": "code",
   "execution_count": 6,
   "id": "0def101c",
   "metadata": {},
   "outputs": [
    {
     "name": "stdout",
     "output_type": "stream",
     "text": [
      "In column [\"ip\"] there are 120090 unique values out of 26877324.\n",
      "\n",
      "In column [\"app\"] there are 459 unique values out of 26877324.\n",
      "\n",
      "In column [\"device\"] there are 1551 unique values out of 26877324.\n",
      "\n",
      "In column [\"os\"] there are 398 unique values out of 26877324.\n",
      "\n",
      "In column [\"channel\"] there are 185 unique values out of 26877324.\n",
      "\n",
      "In column [\"click_time\"] there are 47858 unique values out of 26877324.\n",
      "\n",
      "In column [\"attributed_time\"] there are 38493 unique values out of 64876.\n",
      "\n",
      "In column [\"is_attributed\"] there are 2 unique values out of 26877324.\n",
      "\n"
     ]
    }
   ],
   "source": [
    "# Explore unique values in columns:\n",
    "for col in train.columns:\n",
    "    print(f'In column [\"{col}\"] there are {len(train[col].unique())} unique values out of {sum(train[col].notnull())}.\\n')"
   ]
  },
  {
   "cell_type": "code",
   "execution_count": 7,
   "id": "dc315cf1",
   "metadata": {},
   "outputs": [
    {
     "data": {
      "image/png": "[encoded data removed]",
      "text/plain": [
       "<Figure size 864x648 with 1 Axes>"
      ]
     },
     "metadata": {},
     "output_type": "display_data"
    }
   ],
   "source": [
    "sns.set_style(\"whitegrid\")\n",
    "plt.figure(figsize = (12,9))\n",
    "cols = ['app', 'device', 'os', 'channel']\n",
    "g = sns.barplot(x = cols, y = [len(train[col].unique()) for col in cols])\n",
    "plt.title('Number of unique values per feature')\n",
    "plt.show()"
   ]
  },
  {
   "cell_type": "code",
   "execution_count": 8,
   "id": "e240ce19",
   "metadata": {},
   "outputs": [
    {
     "data": {
      "image/png": "[encoded data removed]",
      "text/plain": [
       "<Figure size 864x648 with 4 Axes>"
      ]
     },
     "metadata": {},
     "output_type": "display_data"
    }
   ],
   "source": [
    "cols = ['app', 'device', 'os', 'channel']\n",
    "plt.figure(figsize = (12,9))\n",
    "plt.suptitle('Distribution of unique value counts')\n",
    "for i,col in enumerate(cols):\n",
    "    plt.subplot(2,2,i+1)\n",
    "    sns.histplot(train[col].value_counts(),bins = 50)\n",
    "    plt.xlabel('Unique value count')\n",
    "    plt.title(col)\n",
    "plt.tight_layout()\n",
    "plt.show()"
   ]
  },
  {
   "cell_type": "markdown",
   "id": "ad8a26a6",
   "metadata": {},
   "source": [
    "As we can see, if we plot the value counts of the four categorical features in the data, there is a right tailed distribution in all categories. This means that in all features there are many unique values of attributes that are used only by a few users. In contrary, there are also only few unique values of attributes that are used by many users for each feature. For example in the device feature, there are 1551 unique values, in which 94% of the users use device number '1' as you can see below."
   ]
  },
  {
   "cell_type": "code",
   "execution_count": 12,
   "id": "5e0372fa",
   "metadata": {},
   "outputs": [
    {
     "data": {
      "text/plain": [
       "94.0163648732292"
      ]
     },
     "execution_count": 12,
     "metadata": {},
     "output_type": "execute_result"
    }
   ],
   "source": [
    "# the percent of users using the most common device (which is device '1')\n",
    "100 * train.device.value_counts(ascending = False).max() / train.device.count()"
   ]
  },
  {
   "cell_type": "code",
   "execution_count": 15,
   "id": "21ca2466",
   "metadata": {},
   "outputs": [
    {
     "data": {
      "image/png": "[encoded data removed]",
      "text/plain": [
       "<Figure size 864x648 with 2 Axes>"
      ]
     },
     "metadata": {},
     "output_type": "display_data"
    }
   ],
   "source": [
    "plt.figure(figsize = (12,9))\n",
    "sns.heatmap(train.corr(), cmap=\"Reds\", annot=True)\n",
    "plt.show()"
   ]
  },
  {
   "cell_type": "markdown",
   "id": "1b190041",
   "metadata": {},
   "source": [
    "We can see in the correlation matrix that the device and OS features are highly correlated, and that there is a slight correlation between the app feature to the device and OS features."
   ]
  },
  {
   "cell_type": "markdown",
   "id": "8de65165",
   "metadata": {},
   "source": [
    "#### Feature Engineering\n",
    "The following function defines some basic feature engineering such as date time conversion to day/ hour/ minute/ second, drops unnecessary columns and converts some categorical features to type 'category'. We will apply this function on both train and test sets.   "
   ]
  },
  {
   "cell_type": "code",
   "execution_count": 27,
   "id": "39227cc8",
   "metadata": {},
   "outputs": [],
   "source": [
    "# Feature Engineering: \n",
    "def feature_engineering(df):\n",
    "    \n",
    "    # Convert click_time to type date_time: \n",
    "    df['date'] = pd.to_datetime(df['click_time'])\n",
    "    \n",
    "    # Extruct features from date and time: \n",
    "    df['day'] = df['date'].dt.dayofweek.astype('uint16')\n",
    "    df['hour'] = df['date'].dt.hour.astype('uint8')\n",
    "    df['min'] = df['date'].dt.minute.astype('uint8')\n",
    "    df['sec'] = df['date'].dt.second.astype('uint8')\n",
    "    \n",
    "    # Drop unused column:\n",
    "    df.drop(['click_time'], axis= 1, inplace=True)\n",
    "    \n",
    "    # Convert categorical features to type category: \n",
    "    cols = ['app', 'device', 'os', 'channel']\n",
    "    for col in cols:\n",
    "        \n",
    "        df[col] = df[col].astype('category')\n",
    "        \n",
    "    return df"
   ]
  },
  {
   "cell_type": "code",
   "execution_count": 28,
   "id": "79b6333b",
   "metadata": {},
   "outputs": [],
   "source": [
    "# Apply Feature engineering: \n",
    "train = feature_engineering(train)\n",
    "test = feature_engineering(test)"
   ]
  },
  {
   "cell_type": "code",
   "execution_count": 6,
   "id": "f3e0c8f4",
   "metadata": {},
   "outputs": [
    {
     "data": {
      "text/html": [
       "<div>\n",
       "<style scoped>\n",
       "    .dataframe tbody tr th:only-of-type {\n",
       "        vertical-align: middle;\n",
       "    }\n",
       "\n",
       "    .dataframe tbody tr th {\n",
       "        vertical-align: top;\n",
       "    }\n",
       "\n",
       "    .dataframe thead th {\n",
       "        text-align: right;\n",
       "    }\n",
       "</style>\n",
       "<table border=\"1\" class=\"dataframe\">\n",
       "  <thead>\n",
       "    <tr style=\"text-align: right;\">\n",
       "      <th></th>\n",
       "      <th>ip</th>\n",
       "      <th>app</th>\n",
       "      <th>device</th>\n",
       "      <th>os</th>\n",
       "      <th>channel</th>\n",
       "      <th>attributed_time</th>\n",
       "      <th>is_attributed</th>\n",
       "      <th>date</th>\n",
       "      <th>day</th>\n",
       "      <th>hour</th>\n",
       "      <th>min</th>\n",
       "      <th>sec</th>\n",
       "    </tr>\n",
       "  </thead>\n",
       "  <tbody>\n",
       "    <tr>\n",
       "      <th>0</th>\n",
       "      <td>83230</td>\n",
       "      <td>3</td>\n",
       "      <td>1</td>\n",
       "      <td>13</td>\n",
       "      <td>379</td>\n",
       "      <td>NaN</td>\n",
       "      <td>0</td>\n",
       "      <td>2017-11-06 14:32:21</td>\n",
       "      <td>0</td>\n",
       "      <td>14</td>\n",
       "      <td>32</td>\n",
       "      <td>21</td>\n",
       "    </tr>\n",
       "    <tr>\n",
       "      <th>1</th>\n",
       "      <td>17357</td>\n",
       "      <td>3</td>\n",
       "      <td>1</td>\n",
       "      <td>19</td>\n",
       "      <td>379</td>\n",
       "      <td>NaN</td>\n",
       "      <td>0</td>\n",
       "      <td>2017-11-06 14:33:34</td>\n",
       "      <td>0</td>\n",
       "      <td>14</td>\n",
       "      <td>33</td>\n",
       "      <td>34</td>\n",
       "    </tr>\n",
       "    <tr>\n",
       "      <th>2</th>\n",
       "      <td>35810</td>\n",
       "      <td>3</td>\n",
       "      <td>1</td>\n",
       "      <td>13</td>\n",
       "      <td>379</td>\n",
       "      <td>NaN</td>\n",
       "      <td>0</td>\n",
       "      <td>2017-11-06 14:34:12</td>\n",
       "      <td>0</td>\n",
       "      <td>14</td>\n",
       "      <td>34</td>\n",
       "      <td>12</td>\n",
       "    </tr>\n",
       "    <tr>\n",
       "      <th>3</th>\n",
       "      <td>45745</td>\n",
       "      <td>14</td>\n",
       "      <td>1</td>\n",
       "      <td>13</td>\n",
       "      <td>478</td>\n",
       "      <td>NaN</td>\n",
       "      <td>0</td>\n",
       "      <td>2017-11-06 14:34:52</td>\n",
       "      <td>0</td>\n",
       "      <td>14</td>\n",
       "      <td>34</td>\n",
       "      <td>52</td>\n",
       "    </tr>\n",
       "    <tr>\n",
       "      <th>4</th>\n",
       "      <td>161007</td>\n",
       "      <td>3</td>\n",
       "      <td>1</td>\n",
       "      <td>13</td>\n",
       "      <td>379</td>\n",
       "      <td>NaN</td>\n",
       "      <td>0</td>\n",
       "      <td>2017-11-06 14:35:08</td>\n",
       "      <td>0</td>\n",
       "      <td>14</td>\n",
       "      <td>35</td>\n",
       "      <td>8</td>\n",
       "    </tr>\n",
       "    <tr>\n",
       "      <th>...</th>\n",
       "      <td>...</td>\n",
       "      <td>...</td>\n",
       "      <td>...</td>\n",
       "      <td>...</td>\n",
       "      <td>...</td>\n",
       "      <td>...</td>\n",
       "      <td>...</td>\n",
       "      <td>...</td>\n",
       "      <td>...</td>\n",
       "      <td>...</td>\n",
       "      <td>...</td>\n",
       "      <td>...</td>\n",
       "    </tr>\n",
       "    <tr>\n",
       "      <th>26877319</th>\n",
       "      <td>83420</td>\n",
       "      <td>1</td>\n",
       "      <td>1</td>\n",
       "      <td>19</td>\n",
       "      <td>125</td>\n",
       "      <td>NaN</td>\n",
       "      <td>0</td>\n",
       "      <td>2017-11-07 00:52:39</td>\n",
       "      <td>1</td>\n",
       "      <td>0</td>\n",
       "      <td>52</td>\n",
       "      <td>39</td>\n",
       "    </tr>\n",
       "    <tr>\n",
       "      <th>26877320</th>\n",
       "      <td>102206</td>\n",
       "      <td>15</td>\n",
       "      <td>1</td>\n",
       "      <td>19</td>\n",
       "      <td>245</td>\n",
       "      <td>NaN</td>\n",
       "      <td>0</td>\n",
       "      <td>2017-11-07 00:52:39</td>\n",
       "      <td>1</td>\n",
       "      <td>0</td>\n",
       "      <td>52</td>\n",
       "      <td>39</td>\n",
       "    </tr>\n",
       "    <tr>\n",
       "      <th>26877321</th>\n",
       "      <td>111969</td>\n",
       "      <td>14</td>\n",
       "      <td>1</td>\n",
       "      <td>32</td>\n",
       "      <td>401</td>\n",
       "      <td>NaN</td>\n",
       "      <td>0</td>\n",
       "      <td>2017-11-07 00:52:39</td>\n",
       "      <td>1</td>\n",
       "      <td>0</td>\n",
       "      <td>52</td>\n",
       "      <td>39</td>\n",
       "    </tr>\n",
       "    <tr>\n",
       "      <th>26877322</th>\n",
       "      <td>6696</td>\n",
       "      <td>11</td>\n",
       "      <td>1</td>\n",
       "      <td>11</td>\n",
       "      <td>319</td>\n",
       "      <td>NaN</td>\n",
       "      <td>0</td>\n",
       "      <td>2017-11-07 00:52:39</td>\n",
       "      <td>1</td>\n",
       "      <td>0</td>\n",
       "      <td>52</td>\n",
       "      <td>39</td>\n",
       "    </tr>\n",
       "    <tr>\n",
       "      <th>26877323</th>\n",
       "      <td>73487</td>\n",
       "      <td>14</td>\n",
       "      <td>2</td>\n",
       "      <td>5</td>\n",
       "      <td>123</td>\n",
       "      <td>NaN</td>\n",
       "      <td>0</td>\n",
       "      <td>2017-11-07 00:52:39</td>\n",
       "      <td>1</td>\n",
       "      <td>0</td>\n",
       "      <td>52</td>\n",
       "      <td>39</td>\n",
       "    </tr>\n",
       "  </tbody>\n",
       "</table>\n",
       "<p>26877324 rows × 12 columns</p>\n",
       "</div>"
      ],
      "text/plain": [
       "              ip app device  os channel attributed_time  is_attributed  \\\n",
       "0          83230   3      1  13     379             NaN              0   \n",
       "1          17357   3      1  19     379             NaN              0   \n",
       "2          35810   3      1  13     379             NaN              0   \n",
       "3          45745  14      1  13     478             NaN              0   \n",
       "4         161007   3      1  13     379             NaN              0   \n",
       "...          ...  ..    ...  ..     ...             ...            ...   \n",
       "26877319   83420   1      1  19     125             NaN              0   \n",
       "26877320  102206  15      1  19     245             NaN              0   \n",
       "26877321  111969  14      1  32     401             NaN              0   \n",
       "26877322    6696  11      1  11     319             NaN              0   \n",
       "26877323   73487  14      2   5     123             NaN              0   \n",
       "\n",
       "                        date  day  hour  min  sec  \n",
       "0        2017-11-06 14:32:21    0    14   32   21  \n",
       "1        2017-11-06 14:33:34    0    14   33   34  \n",
       "2        2017-11-06 14:34:12    0    14   34   12  \n",
       "3        2017-11-06 14:34:52    0    14   34   52  \n",
       "4        2017-11-06 14:35:08    0    14   35    8  \n",
       "...                      ...  ...   ...  ...  ...  \n",
       "26877319 2017-11-07 00:52:39    1     0   52   39  \n",
       "26877320 2017-11-07 00:52:39    1     0   52   39  \n",
       "26877321 2017-11-07 00:52:39    1     0   52   39  \n",
       "26877322 2017-11-07 00:52:39    1     0   52   39  \n",
       "26877323 2017-11-07 00:52:39    1     0   52   39  \n",
       "\n",
       "[26877324 rows x 12 columns]"
      ]
     },
     "execution_count": 6,
     "metadata": {},
     "output_type": "execute_result"
    }
   ],
   "source": [
    "train"
   ]
  },
  {
   "cell_type": "markdown",
   "id": "2f7e6fb6",
   "metadata": {},
   "source": [
    "#### Add clicks\n",
    "\n",
    "Another feature engineering - We define a function that counts the number of clicks each user clicked and attach it to the user's row. \n",
    "Also we define a wrapper function for the add_click function, that takes the train and test datasets, merge them, applies the add_click function on the merged dataframe and then splits them back to the train and test sets. \n",
    "\n",
    "There can be a problem of data leakage with this type of operation, But since the test set is a continuation of the training set, this information can greatly add to the estimation algorithm.\n",
    "\n",
    "In a real world data challenge, we would probably won't have the opportunity to do so, but since this is a kaggle compatition, we allow ourselves.  "
   ]
  },
  {
   "cell_type": "code",
   "execution_count": 29,
   "id": "0d27da3b",
   "metadata": {},
   "outputs": [],
   "source": [
    "# A function that adds another feature to the data:\n",
    "# feature that counts number of clicks per ip and attaches the number of clicks to the ip's row:\n",
    "def add_clicks(df):\n",
    "    # Count clicks per ip: \n",
    "    num_clicks_ip = df.groupby('ip').size().reset_index()\n",
    "    \n",
    "    # Change column name: \n",
    "    num_clicks_ip = num_clicks_ip.rename(columns = {0:'clicks'})\n",
    "    \n",
    "    # Append clicks column to data frame by meging on 'ip': \n",
    "    return pd.merge(df, num_clicks_ip, on = 'ip', how = 'left')"
   ]
  },
  {
   "cell_type": "code",
   "execution_count": 30,
   "id": "0399b46a",
   "metadata": {},
   "outputs": [],
   "source": [
    "# A function that concatinates the training and test data and computes number of clicks.\n",
    "# then, separates it back to train and test:\n",
    "def concat_and_split(train, test):\n",
    "    train_copy = train.copy()\n",
    "    test_copy = test.copy()\n",
    "    df_merged = pd.merge(left = train_copy, right = test_copy, how='outer')\n",
    "    df_merged = add_clicks(df_merged)\n",
    "    train_copy['clicks'] = df_merged['clicks'][0:len(train_copy)].tolist()\n",
    "    test_copy['clicks'] = df_merged['clicks'][len(train_copy)::].tolist()\n",
    "    return train_copy, test_copy"
   ]
  },
  {
   "cell_type": "markdown",
   "id": "585d2e6a",
   "metadata": {},
   "source": [
    "Before we continue, we would like to explore more the distribution of usage along the time range, to do so we will plot an histogram of the date column, for the train and test datasets. Maybe we don't need to train the model over all the data.. we will check it out soon, but first let's explore the graph: "
   ]
  },
  {
   "cell_type": "code",
   "execution_count": 9,
   "id": "e8a26225",
   "metadata": {},
   "outputs": [
    {
     "data": {
      "image/png": "[encoded data removed]",
      "text/plain": [
       "<Figure size 864x648 with 1 Axes>"
      ]
     },
     "metadata": {
      "needs_background": "light"
     },
     "output_type": "display_data"
    }
   ],
   "source": [
    "plt.figure(figsize = (12,9))\n",
    "train.date.hist(bins = 1000, label = 'Train')\n",
    "test.date.hist(bins = 500, color = 'red', label = 'Test')\n",
    "plt.xticks(rotation='vertical')\n",
    "plt.legend()\n",
    "plt.title('Date Time histogram of train and test sets')\n",
    "plt.show()"
   ]
  },
  {
   "cell_type": "markdown",
   "id": "995fca6b",
   "metadata": {},
   "source": [
    "We notice a very strange behaviour of the training data.\n",
    "There is a large empty interval in the middle, and also a small break at the beginning of the day 07/11. \n",
    "\n",
    "Later on, in the modeling stage we will try training the models with two types of training set, the first one will be comprised from the whole range of the training set, and the second will contain samples from the last part (after 12:00 of the 09/11)."
   ]
  },
  {
   "cell_type": "markdown",
   "id": "9c911401",
   "metadata": {},
   "source": [
    "#### Spliting the data\n",
    "\n",
    "We first define the threshold which will split the data, and than define a function that gets a dataframe and splits it in the given threhold point. "
   ]
  },
  {
   "cell_type": "code",
   "execution_count": 31,
   "id": "5c991464",
   "metadata": {},
   "outputs": [
    {
     "name": "stdout",
     "output_type": "stream",
     "text": [
      "The date and time in which the data continue after the break is: 2017-11-09 13:00:19\n"
     ]
    }
   ],
   "source": [
    "# Form the plot above we can easily see that there is a large area of missing data. \n",
    "# Maybe we can lay only on the training data that is closer to the test data --> the data that \n",
    "# is after 08/11/2017 - we can use this date for splitting the data: \n",
    "date_thresh = train[train.date > '2017-11-08']['date'].min()\n",
    "\n",
    "print(f'The date and time in which the data continue after the break is: {date_thresh}')"
   ]
  },
  {
   "cell_type": "code",
   "execution_count": 32,
   "id": "6e5c1f69",
   "metadata": {},
   "outputs": [],
   "source": [
    "# A function that splits the training data and saves only the final part according to threshold: \n",
    "def split_data(df, thresh):\n",
    "    return df[(df.date > thresh)]"
   ]
  },
  {
   "cell_type": "markdown",
   "id": "23abc0a6",
   "metadata": {},
   "source": [
    "#### Downsampling\n",
    "\n",
    "Since the data is very imbalanced - 99.75% / 0.25% is the ratio between labeled = 0 / labeled = 1, in the \"is_attributed\" column which is the prediction column, and also from computational issues of running time, we decided to downsample the data using random sampler without replacement. This is done to the training set (original or spliitted) "
   ]
  },
  {
   "cell_type": "code",
   "execution_count": 44,
   "id": "503e48d4",
   "metadata": {},
   "outputs": [],
   "source": [
    "# A function for downsampling the training data labeled as \"is_attributed\" == 0:\n",
    "def downsample(df, n=500000, seed=1):\n",
    "    \n",
    "    # apply downsampling on the training data by randomly omit samples that are labeled \n",
    "    # is_attributed == 0 --> this way we narrow the size of the data for computational issues \n",
    "    # and also fixing a bit the extreme imbalanced ratio between is_attributed 0/1:\n",
    "    \n",
    "    # random sample without replacement from ['is_attributed'] == 0 part\n",
    "    df_downsampled = df[df['is_attributed'] == 0].sample(n=n, random_state = seed, replace = False)\n",
    "    \n",
    "    # concat with ['is_attributed'] == 1 part and return fixed data:\n",
    "    return pd.concat([df_downsampled, df[df['is_attributed'] == 1]])"
   ]
  },
  {
   "cell_type": "markdown",
   "id": "9c3e1145",
   "metadata": {},
   "source": [
    "#### Proccess data for modeling\n",
    "\n",
    "After defining different feature engineering functions, and data reductions, the last part is to drop final unnecessary columns and convert data to numpy type - ready for modeling. "
   ]
  },
  {
   "cell_type": "code",
   "execution_count": 39,
   "id": "b6c77cc2",
   "metadata": {},
   "outputs": [],
   "source": [
    "# Helper function to create X, y from data frame ready to train:\n",
    "def convert_train(df):\n",
    "    \n",
    "    df = df.sort_values('date')\n",
    "    \n",
    "    # Obtain labels: \n",
    "    y = df['is_attributed'].values\n",
    "    \n",
    "    # Drop unused columns and obtain features:\n",
    "    cols = ['ip', 'attributed_time', 'is_attributed', 'date']\n",
    "    X = df.drop(columns = cols).values\n",
    "    \n",
    "    return X, y"
   ]
  },
  {
   "cell_type": "code",
   "execution_count": 40,
   "id": "7f6a5ec2",
   "metadata": {},
   "outputs": [],
   "source": [
    "# Helper function to create X from data frame ready to test:\n",
    "def convert_test(df):\n",
    "      \n",
    "    # Drop unused columns and obtain features:\n",
    "    cols = ['click_id', 'ip', 'date']\n",
    "    X = df.drop(columns = cols).values\n",
    "    \n",
    "    return X"
   ]
  },
  {
   "cell_type": "markdown",
   "id": "84f19c1d",
   "metadata": {},
   "source": [
    "We will create different training sets according to the different functions above, and we'll explore if different changes in the data actually make change in the validation accuracy. "
   ]
  },
  {
   "cell_type": "code",
   "execution_count": null,
   "id": "e3123d2b",
   "metadata": {},
   "outputs": [],
   "source": [
    "# Create dataset with number of clicks feature: \n",
    "train_clicks, test_clicks = concat_and_split(train, test)"
   ]
  },
  {
   "cell_type": "code",
   "execution_count": null,
   "id": "05d7a18e",
   "metadata": {},
   "outputs": [],
   "source": [
    "# Create two more data sets:\n",
    "# Split data and use only the part of 09/11, do it for both train and train_clicks:\n",
    "train_split = split_data(train, date_thresh)\n",
    "train_clicks_split = split_data(train_clicks, date_thresh)"
   ]
  },
  {
   "cell_type": "code",
   "execution_count": 17,
   "id": "d3f9a4ac",
   "metadata": {},
   "outputs": [],
   "source": [
    "# So now we have 4 training data sets, let's downsample them all:\n",
    "train = downsample(train)\n",
    "train_clicks = downsample(train_clicks)\n",
    "train_split = downsample(train_split)\n",
    "train_clicks_split = downsample(train_clicks_split)"
   ]
  },
  {
   "cell_type": "code",
   "execution_count": 18,
   "id": "e17bd423",
   "metadata": {},
   "outputs": [
    {
     "data": {
      "image/png": "[encoded data removed]",
      "text/plain": [
       "<Figure size 864x720 with 4 Axes>"
      ]
     },
     "metadata": {
      "needs_background": "light"
     },
     "output_type": "display_data"
    }
   ],
   "source": [
    "# let's review the training data sets we created: \n",
    "import random\n",
    "datas = {'train' : train, 'train_clicks' : train_clicks,\n",
    "         'train_split' : train_split, 'train_clicks_split' : train_clicks_split}\n",
    "plt.style.use(\"bmh\")\n",
    "plt.figure(figsize=(12,10))\n",
    "for i,d in enumerate(datas):\n",
    "    plt.subplot(2,2,i+1)\n",
    "    datas[d].date.hist(bins = 1000, color = 'k')\n",
    "    plt.xticks(rotation='vertical')\n",
    "    N = len(datas[d])\n",
    "    R = len(datas[d][datas[d]['is_attributed'] == 1]) / len(datas[d][datas[d]['is_attributed'] == 0])\n",
    "    plt.title(f' Training dataset spread: {d} \\nNum samples: {N} \\nis_attributed ratio: {R}')\n",
    "plt.tight_layout()\n",
    "plt.show()"
   ]
  },
  {
   "cell_type": "markdown",
   "id": "4a173aaa",
   "metadata": {},
   "source": [
    "Now, after creating 4 tpyes of training sets, lest convert them to numpy array to be ready before modeling: \n",
    "\n",
    "#### Convert to Numpy: "
   ]
  },
  {
   "cell_type": "code",
   "execution_count": 19,
   "id": "bde4c3ac",
   "metadata": {},
   "outputs": [],
   "source": [
    "X, y = convert_train(train)\n",
    "X_clicks, y_clicks = convert_train(train_clicks)\n",
    "X_split, y_split = convert_train(train_split)\n",
    "X_clicks_split, y_clicks_split = convert_train(train_clicks_split)\n",
    "\n",
    "### only for later use, let's convert the test set aswell: \n",
    "### Remember - the validation is not done on the test set, but with cross validation\n",
    "\n",
    "# We need a test set with and without click feature: \n",
    "X_test = convert_test(test)\n",
    "X_test_clicks = convert_test(test_clicks)"
   ]
  },
  {
   "cell_type": "markdown",
   "id": "4f9bd100",
   "metadata": {},
   "source": [
    "#### Modeling stage:"
   ]
  },
  {
   "cell_type": "code",
   "execution_count": 105,
   "id": "339f928e",
   "metadata": {},
   "outputs": [],
   "source": [
    "# Helper function that given a model and dataset creates train / validation split,\n",
    "# fits the model, and computes the auc score: \n",
    "def fit_and_auc_score(model, X, y, X_Test, is_splitted = False, return_model = False):\n",
    "    \n",
    "    if not is_splitted:\n",
    "        X_train, X_val, y_train, y_val = train_test_split(X, y, test_size = 0.2, random_state=42)\n",
    "    # If the data is splitted and only the final part remains, we want to keep the order of the\n",
    "    # data, so it will be similar to the real test data. \n",
    "    # when we do not perform the split, the time line is already very messy so it doesn't matter..\n",
    "    # In this case we will use the random train_test_split... \n",
    "    else: \n",
    "        s = int(X.shape[0]*0.8)\n",
    "        X_train = X[0:s,:]\n",
    "        X_val = X[s::,:]\n",
    "        y_train = y[0:s]\n",
    "        y_val = y[s::] \n",
    "        \n",
    "    model.fit(X_train, y_train)\n",
    "    \n",
    "    y_proba = model.predict_proba(X_train)\n",
    "    y_val_proba = model.predict_proba(X_val)\n",
    "    \n",
    "    model.fit(X, y)\n",
    "    \n",
    "    # If return_model is True we return the model for late use.. \n",
    "    if return_model:\n",
    "        return roc_auc_score(y_train, y_proba[:,1]), roc_auc_score(y_val, y_val_proba[:,1]), model\n",
    "        \n",
    "    return roc_auc_score(y_train, y_proba[:,1]), roc_auc_score(y_val, y_val_proba[:,1]), model.predict_proba(X_Test)"
   ]
  },
  {
   "cell_type": "markdown",
   "id": "d0937124",
   "metadata": {},
   "source": [
    "#### Decision Tree:"
   ]
  },
  {
   "cell_type": "code",
   "execution_count": 21,
   "id": "0a08e4c7",
   "metadata": {},
   "outputs": [],
   "source": [
    "DT = DecisionTreeClassifier()"
   ]
  },
  {
   "cell_type": "code",
   "execution_count": 22,
   "id": "ac8223ba",
   "metadata": {},
   "outputs": [
    {
     "name": "stdout",
     "output_type": "stream",
     "text": [
      "train auc: 0.9999978402252309, validation auc: 0.8712193819223099\n"
     ]
    }
   ],
   "source": [
    "# Simple data:\n",
    "DT_auc_train, DT_auc_val, DT_test = fit_and_auc_score(DT, X, y, X_test)\n",
    "print(f'train auc: {DT_auc_train}, validation auc: {DT_auc_val}')"
   ]
  },
  {
   "cell_type": "code",
   "execution_count": 23,
   "id": "20e551ed",
   "metadata": {},
   "outputs": [
    {
     "name": "stdout",
     "output_type": "stream",
     "text": [
      "train auc: 0.999999999975933, validation auc: 0.8688782170920576\n"
     ]
    }
   ],
   "source": [
    "# Data with clicks:\n",
    "DT_auc_train_clicks, DT_auc_val_clicks, DT_test_clicks = fit_and_auc_score(DT, X_clicks, y_clicks, X_test_clicks)\n",
    "print(f'train auc: {DT_auc_train_clicks}, validation auc: {DT_auc_val_clicks}')"
   ]
  },
  {
   "cell_type": "code",
   "execution_count": 24,
   "id": "30527d0a",
   "metadata": {},
   "outputs": [
    {
     "name": "stdout",
     "output_type": "stream",
     "text": [
      "train auc: 0.9999924025351824, validation auc: 0.8273479554266777\n"
     ]
    }
   ],
   "source": [
    "# Splitted data:\n",
    "DT_auc_train_split, DT_auc_val_split, DT_test_split = fit_and_auc_score(DT, X_split, y_split, X_test)\n",
    "print(f'train auc: {DT_auc_train_split}, validation auc: {DT_auc_val_split}')"
   ]
  },
  {
   "cell_type": "code",
   "execution_count": 25,
   "id": "4f5f84f9",
   "metadata": {},
   "outputs": [
    {
     "name": "stdout",
     "output_type": "stream",
     "text": [
      "train auc: 0.999999999906337, validation auc: 0.8244428870139789\n"
     ]
    }
   ],
   "source": [
    "# Splitted data with clicks:\n",
    "DT_auc_train_clicks_split, DT_auc_val_clicks_split, DT_test_clicks_split = fit_and_auc_score(DT, X_clicks_split, y_clicks_split, X_test_clicks)\n",
    "print(f'train auc: {DT_auc_train_clicks_split}, validation auc: {DT_auc_val_clicks_split}')"
   ]
  },
  {
   "cell_type": "markdown",
   "id": "1247844a",
   "metadata": {},
   "source": [
    "#### Random Forest:"
   ]
  },
  {
   "cell_type": "code",
   "execution_count": 26,
   "id": "ded4ce95",
   "metadata": {},
   "outputs": [],
   "source": [
    "RF = RandomForestClassifier()"
   ]
  },
  {
   "cell_type": "code",
   "execution_count": 27,
   "id": "3b48c644",
   "metadata": {},
   "outputs": [
    {
     "name": "stdout",
     "output_type": "stream",
     "text": [
      "train auc: 0.9999931061933984, validation auc: 0.9473576402906074\n"
     ]
    }
   ],
   "source": [
    "# Simple data:\n",
    "RF_auc_train, RF_auc_val, RF_test = fit_and_auc_score(RF, X, y, X_test)\n",
    "print(f'train auc: {RF_auc_train}, validation auc: {RF_auc_val}')"
   ]
  },
  {
   "cell_type": "code",
   "execution_count": 28,
   "id": "d93cb068",
   "metadata": {},
   "outputs": [
    {
     "name": "stdout",
     "output_type": "stream",
     "text": [
      "train auc: 0.9999999960289411, validation auc: 0.9518976756166043\n"
     ]
    }
   ],
   "source": [
    "# Data with clicks:\n",
    "RF_auc_train_clicks, RF_auc_val_clicks, RF_test_clicks = fit_and_auc_score(RF, X_clicks, y_clicks, X_test_clicks)\n",
    "print(f'train auc: {RF_auc_train_clicks}, validation auc: {RF_auc_val_clicks}')"
   ]
  },
  {
   "cell_type": "code",
   "execution_count": 29,
   "id": "bbd73a8b",
   "metadata": {},
   "outputs": [
    {
     "name": "stdout",
     "output_type": "stream",
     "text": [
      "train auc: 0.9999735640159992, validation auc: 0.9517918350917504\n"
     ]
    }
   ],
   "source": [
    "# Splitted data:\n",
    "RF_auc_train_split, RF_auc_val_split, RF_test_split = fit_and_auc_score(RF, X_split, y_split, X_test, is_splitted = True)\n",
    "print(f'train auc: {RF_auc_train_split}, validation auc: {RF_auc_val_split}')"
   ]
  },
  {
   "cell_type": "code",
   "execution_count": 30,
   "id": "ee6760d1",
   "metadata": {},
   "outputs": [
    {
     "name": "stdout",
     "output_type": "stream",
     "text": [
      "train auc: 0.9999999965306988, validation auc: 0.9581745091698666\n"
     ]
    }
   ],
   "source": [
    "# Splitted data with clicks:\n",
    "RF_auc_train_clicks_split, RF_auc_val_clicks_split, RF_test_clicks_split = fit_and_auc_score(RF, X_clicks_split, y_clicks_split, X_test_clicks, is_splitted = True)\n",
    "print(f'train auc: {RF_auc_train_clicks_split}, validation auc: {RF_auc_val_clicks_split}')"
   ]
  },
  {
   "cell_type": "markdown",
   "id": "bf100e60",
   "metadata": {},
   "source": [
    "#### Ada Boost:"
   ]
  },
  {
   "cell_type": "code",
   "execution_count": 31,
   "id": "136cd25e",
   "metadata": {},
   "outputs": [],
   "source": [
    "AD = AdaBoostClassifier()"
   ]
  },
  {
   "cell_type": "code",
   "execution_count": 32,
   "id": "b7ba4ced",
   "metadata": {},
   "outputs": [
    {
     "name": "stdout",
     "output_type": "stream",
     "text": [
      "train auc: 0.937388200200097, validation auc: 0.9351555239140495\n"
     ]
    }
   ],
   "source": [
    "# Simple data:\n",
    "AD_auc_train, AD_auc_val, AD_test = fit_and_auc_score(AD, X, y, X_test)\n",
    "print(f'train auc: {AD_auc_train}, validation auc: {AD_auc_val}')"
   ]
  },
  {
   "cell_type": "code",
   "execution_count": 33,
   "id": "a984c833",
   "metadata": {},
   "outputs": [
    {
     "name": "stdout",
     "output_type": "stream",
     "text": [
      "train auc: 0.937388200200097, validation auc: 0.9351555239140495\n"
     ]
    }
   ],
   "source": [
    "# Data with clicks:\n",
    "AD_auc_train_clicks, AD_auc_val_clicks, AD_test_clicks = fit_and_auc_score(AD, X_clicks, y_clicks, X_test_clicks)\n",
    "print(f'train auc: {AD_auc_train_clicks}, validation auc: {AD_auc_val_clicks}')"
   ]
  },
  {
   "cell_type": "code",
   "execution_count": 34,
   "id": "b4b8c2bd",
   "metadata": {},
   "outputs": [
    {
     "name": "stdout",
     "output_type": "stream",
     "text": [
      "train auc: 0.9541867730536236, validation auc: 0.9600963444236582\n"
     ]
    }
   ],
   "source": [
    "# Splitted data:\n",
    "AD_auc_train_split, AD_auc_val_split, AD_test_split = fit_and_auc_score(AD, X_split, y_split, X_test,is_splitted = True)\n",
    "print(f'train auc: {AD_auc_train_split}, validation auc: {AD_auc_val_split}')"
   ]
  },
  {
   "cell_type": "code",
   "execution_count": 35,
   "id": "d160f8b8",
   "metadata": {},
   "outputs": [
    {
     "name": "stdout",
     "output_type": "stream",
     "text": [
      "train auc: 0.9541867730536236, validation auc: 0.9600963444236582\n"
     ]
    }
   ],
   "source": [
    "# Splitted data with clicks:\n",
    "AD_auc_train_clicks_split, AD_auc_val_clicks_split, AD_test_clicks_split = fit_and_auc_score(AD, X_clicks_split, y_clicks_split, X_test_clicks, is_splitted = True)\n",
    "print(f'train auc: {AD_auc_train_clicks_split}, validation auc: {AD_auc_val_clicks_split}')"
   ]
  },
  {
   "cell_type": "markdown",
   "id": "3f028ff4",
   "metadata": {},
   "source": [
    "#### Submission"
   ]
  },
  {
   "cell_type": "code",
   "execution_count": 136,
   "id": "a259b1d5",
   "metadata": {},
   "outputs": [],
   "source": [
    "def create_submission(test, probas, name):\n",
    "    sub_df = test.copy()\n",
    "    sub_df['Expected'] = probas[:,1]\n",
    "    sub_df = sub_df[['click_id','Expected']]\n",
    "    sub_df = sub_df.rename(columns = {'click_id' : 'Id'})\n",
    "    sub_df['Id'] = sub_df['Id'].astype('int64')\n",
    "    sub_df.to_csv(name + '.csv', index=False)"
   ]
  },
  {
   "cell_type": "code",
   "execution_count": 37,
   "id": "270f84d7",
   "metadata": {},
   "outputs": [],
   "source": [
    "# Creating a sample submission for Kaggle, we will use the 'RF_test_clicks_split' Run. \n",
    "create_submission(test, RF_test_clicks_split, 'RF_test_clicks_split')"
   ]
  },
  {
   "cell_type": "code",
   "execution_count": 38,
   "id": "178b2bfa",
   "metadata": {},
   "outputs": [],
   "source": [
    "# Creating a sample submission for Kaggle, we will use the 'RF_test_clicks_split' Run. \n",
    "create_submission(test, AD_test_clicks_split, 'AD_test_clicks_split')"
   ]
  },
  {
   "cell_type": "markdown",
   "id": "c5c5d3f7",
   "metadata": {},
   "source": [
    "#### Appending results in a dictionary"
   ]
  },
  {
   "cell_type": "code",
   "execution_count": 39,
   "id": "871ce3bf",
   "metadata": {},
   "outputs": [],
   "source": [
    "# Record results of kaggle submission:\n",
    "summary_results = {'RF_test_clicks_split':{'train auc': RF_auc_train_clicks_split,\n",
    "                                           'validation auc': RF_auc_val_clicks_split,\n",
    "                                           'kaggle auc': 0.96727}, \n",
    "                  'AD_test_clicks_split':{'train auc': AD_auc_train_clicks_split,\n",
    "                                           'validation auc': AD_auc_val_clicks_split,\n",
    "                                           'kaggle auc': 0.96396}}"
   ]
  },
  {
   "cell_type": "markdown",
   "id": "276e27ee",
   "metadata": {},
   "source": [
    "### Task 3: \n",
    "All of the work above was submitted as part of Task 2. From here on we will try to optimize our model by trying new models, hyperparameter tuning and maybe combine different mdoels into an ensemble model. \n",
    "Also, we can try to think of more feature engineering. "
   ]
  },
  {
   "cell_type": "code",
   "execution_count": 40,
   "id": "dbcc3b15",
   "metadata": {},
   "outputs": [],
   "source": [
    "# This time we will use a splitted data (only the last day) and than add clicks, and for finish we down sample the data:\n",
    "\n",
    "train = pd.read_csv('train.csv')\n",
    "test = pd.read_csv('test.csv')\n",
    "\n",
    "# Apply Feature engineering: \n",
    "train = feature_engineering(train)\n",
    "test = feature_engineering(test)\n",
    "\n",
    "# First split the data and use only the last day:\n",
    "train = split_data(train, date_thresh)\n",
    "\n",
    "# Only after that add the total clicks with concating the test data:\n",
    "train, test = concat_and_split(train, test)\n",
    "\n",
    "# decrease the number of samples: \n",
    "train_downsample = downsample(train)\n",
    "\n",
    "# Convert to numpy:\n",
    "X, y = convert_train(train_downsample)\n",
    "\n",
    "# We need a test set with and without click feature: \n",
    "X_test = convert_test(test)\n"
   ]
  },
  {
   "cell_type": "markdown",
   "id": "7aab3d42",
   "metadata": {},
   "source": [
    "All the models above acheived better score with the datasets containing the the feature 'clicks', so we will continue use the two training datasets - X_clicks and X_clicks_split. "
   ]
  },
  {
   "cell_type": "markdown",
   "id": "ff22896a",
   "metadata": {},
   "source": [
    "#### XGboost:"
   ]
  },
  {
   "cell_type": "code",
   "execution_count": 42,
   "id": "01bc7971",
   "metadata": {},
   "outputs": [],
   "source": [
    "XG = XGBClassifier(eval_metric = 'auc', use_label_encoder = False, subsample = 0.8)"
   ]
  },
  {
   "cell_type": "code",
   "execution_count": 43,
   "id": "a9b20f8f",
   "metadata": {},
   "outputs": [
    {
     "name": "stdout",
     "output_type": "stream",
     "text": [
      "train auc: 0.9851526059458549, validation auc: 0.970093873902611\n"
     ]
    }
   ],
   "source": [
    "# Splitted data with clicks:\n",
    "XG_auc_train, XG_auc_val, XG_test = fit_and_auc_score(XG, X, y, X_test, is_splitted = True)\n",
    "print(f'train auc: {XG_auc_train}, validation auc: {XG_auc_val}')"
   ]
  },
  {
   "cell_type": "code",
   "execution_count": 44,
   "id": "b93f9863",
   "metadata": {},
   "outputs": [],
   "source": [
    "# Creating a sample submission for Kaggle, we will use the 'XG_test_clicks_split' Run. \n",
    "create_submission(test, XG_test, 'XG_test')"
   ]
  },
  {
   "cell_type": "markdown",
   "id": "ae3f31cb",
   "metadata": {},
   "source": [
    "#### XGboost Randomized Hyperparameter search:"
   ]
  },
  {
   "cell_type": "code",
   "execution_count": 51,
   "id": "6405b6d5",
   "metadata": {},
   "outputs": [],
   "source": [
    "# Define different hyperparameters to search on: \n",
    "params = {'eta' : [0.2, 0.3, 0.4, 0.5],\n",
    "          'gamma' : [0, 1, 5, 10],\n",
    "          'max_depth' : [4, 5, 6, 7, 8],\n",
    "          'max_delta_step' : [0, 1, 2],\n",
    "          'subsample' : [0.6, 0.8, 1]}\n",
    "\n",
    "# Create a list of 30 randomly selected sets of hyperparameter. \n",
    "param_list = list(ParameterSampler(params, n_iter = 30)) "
   ]
  },
  {
   "cell_type": "markdown",
   "id": "bcf8b8cd",
   "metadata": {},
   "source": [
    "Since we want to explore 5 different hyperparameter, in which each hyperparameter has 3-5 different values, we end up with an extreme number of combinations. \n",
    "In order to gain good insight on the different hyperparameter tuning, we will use a random sampler for sets of hyperparameter - and we'll generate 30 different sets.\n",
    "After generating these sets we will test them on the two types of training data sets - X_clicks and X_clicks_split. "
   ]
  },
  {
   "cell_type": "code",
   "execution_count": 46,
   "id": "1cfeed61",
   "metadata": {},
   "outputs": [
    {
     "name": "stdout",
     "output_type": "stream",
     "text": [
      "Finished iteration: 0, Val score = 0.9715827929991341\n",
      "Finished iteration: 1, Val score = 0.9707731066564314\n",
      "Finished iteration: 2, Val score = 0.9705024249195424\n",
      "Finished iteration: 3, Val score = 0.9690107734676288\n",
      "Finished iteration: 4, Val score = 0.9683727193407956\n",
      "Finished iteration: 5, Val score = 0.9685779605108334\n",
      "Finished iteration: 6, Val score = 0.969622431206712\n",
      "Finished iteration: 7, Val score = 0.9670680196416906\n",
      "Finished iteration: 8, Val score = 0.9703759961491218\n",
      "Finished iteration: 9, Val score = 0.9704712747576052\n",
      "Finished iteration: 10, Val score = 0.971526619179553\n",
      "Finished iteration: 11, Val score = 0.9709197512529176\n",
      "Finished iteration: 12, Val score = 0.9712692486656294\n",
      "Finished iteration: 13, Val score = 0.9720259325556797\n",
      "Finished iteration: 14, Val score = 0.9713015291184657\n",
      "Finished iteration: 15, Val score = 0.969104029019213\n",
      "Finished iteration: 16, Val score = 0.9697174968618374\n",
      "Finished iteration: 17, Val score = 0.9705298565882321\n",
      "Finished iteration: 18, Val score = 0.9697853208681926\n",
      "Finished iteration: 19, Val score = 0.9716157303311741\n",
      "Finished iteration: 20, Val score = 0.962054434167563\n",
      "Finished iteration: 21, Val score = 0.9717895395856015\n",
      "Finished iteration: 22, Val score = 0.9720927589574588\n",
      "Finished iteration: 23, Val score = 0.9709561548103816\n",
      "Finished iteration: 24, Val score = 0.9713434072153276\n",
      "Finished iteration: 25, Val score = 0.9699429784294826\n",
      "Finished iteration: 26, Val score = 0.9699601637654568\n",
      "Finished iteration: 27, Val score = 0.9707897415898805\n",
      "Finished iteration: 28, Val score = 0.9712385735534903\n",
      "Finished iteration: 29, Val score = 0.9715345541492852\n"
     ]
    }
   ],
   "source": [
    "# Define a dictionary to store the results:\n",
    "XGBoost_Result = {}\n",
    "\n",
    "# Run over the different hyperparams sets:\n",
    "for i in range(len(param_list)): \n",
    "    \n",
    "    # Get hyperparam set for iteration:\n",
    "    params = param_list[i]\n",
    "    \n",
    "    # Define XGBoost model\n",
    "    XG = XGBClassifier(eval_metric = 'auc', use_label_encoder = False)                          \n",
    "    \n",
    "    # Assign hyperparameters to model\n",
    "    XG.set_params(**params)\n",
    "    \n",
    "    # Obtain the scores of train and validation, and the probas of final model\n",
    "    auc_train, auc_val, y_hat = fit_and_auc_score(XG, X, y, X_test, is_splitted = True)\n",
    "    \n",
    "    # Assign results in dictionary:\n",
    "    XGBoost_Result[i] = {'param': params, 'auc_train': auc_train, 'auc_val' : auc_val, 'y_hat' : y_hat}\n",
    "    \n",
    "    print(f'Finished iteration: {i}, Train score = {auc_train}, Val score = {auc_val}')"
   ]
  },
  {
   "cell_type": "markdown",
   "id": "36b920c2",
   "metadata": {},
   "source": [
    "We Acheived a better results with a  run using the hyperparam 'subsample = 0.8'."
   ]
  },
  {
   "cell_type": "markdown",
   "id": "e549e436",
   "metadata": {},
   "source": [
    "#### New Feature Engineering - Add time delta before and after each click "
   ]
  },
  {
   "cell_type": "code",
   "execution_count": 14,
   "id": "a0e009ba",
   "metadata": {},
   "outputs": [],
   "source": [
    "def time_delta(train, test):\n",
    "    \n",
    "    # Merge train and test: \n",
    "    df_merged = pd.merge(left = train, right = test, how='outer')\n",
    "    \n",
    "    # Unique ip's\n",
    "    ips = df_merged['ip'].unique()\n",
    "    \n",
    "    # Create empty columns: \n",
    "    df_merged['d_up'] = 0\n",
    "    df_merged['d_down'] = 0\n",
    "    \n",
    "    # sort values by date:\n",
    "    df_merged = df_merged.sort_values('date')\n",
    "    \n",
    "    n = len(ips)\n",
    "    i = 1\n",
    "    \n",
    "    # Run over IP and calculate the time delta before and after each click: \n",
    "    for ip in ips:\n",
    "        ip_group = df_merged[df_merged['ip'] == ip]['date']\n",
    "        df_merged.loc[df_merged['ip'] == ip,'d_up'] = (ip_group - ip_group.shift()).dt.total_seconds()\n",
    "        df_merged.loc[df_merged['ip'] == ip,'d_down'] = df_merged[df_merged['ip'] == ip]['d_up'].shift(-1)\n",
    "        \n",
    "        # Only for logging: \n",
    "        print(f' {(100*i) / n}% Process id done')\n",
    "        i += 1\n",
    "        \n",
    "    # Fill missing values with 0 (missing values will be initial values in delta after and final value in delta before)\n",
    "    df_merged[['d_up','d_down']] = df_merged[['d_up','d_down']].fillna(0)\n",
    "    \n",
    "    # Assign to train and test: \n",
    "    train = df_merged[0:len(train)]\n",
    "    test = df_merged[len(train)::]\n",
    "    \n",
    "    return train, test"
   ]
  },
  {
   "cell_type": "markdown",
   "id": "dd848e9c",
   "metadata": {},
   "source": [
    "Upload the data once again: "
   ]
  },
  {
   "cell_type": "code",
   "execution_count": null,
   "id": "dad3cc1b",
   "metadata": {},
   "outputs": [],
   "source": [
    "train = pd.read_csv('train.csv')\n",
    "test = pd.read_csv('test.csv')\n",
    "\n",
    "# Apply Feature engineering: \n",
    "train = feature_engineering(train)\n",
    "test = feature_engineering(test)\n",
    "\n",
    "# First, add the total clicks with concating the test data:\n",
    "train, test = concat_and_split(train, test)\n",
    "\n",
    "# Add new feature:\n",
    "train, test = time_delta(train, test)\n",
    "\n",
    "# # Because it takes long time to compute the feature engineering, we save the created datasets:\n",
    "# train.to_csv('trains_featured2.csv', index=False)\n",
    "# test.to_csv('test_featured2.csv', index=False)\n",
    "\n",
    "# split the data and use only the last day:\n",
    "train_split = split_data(train, date_thresh)\n",
    "\n",
    "# decrease the number of samples: \n",
    "train_downsample = downsample(train_split)\n",
    "\n",
    "# Drop column 'click_id' that was added in the merging step:\n",
    "train_downsample = train_downsample.drop('click_id', axis = 1)\n",
    "test = test.drop(columns = ['attributed_time' , 'is_attributed'])\n",
    "\n",
    "# Convert to numpy:\n",
    "X, y = convert_train(train_downsample)\n",
    "\n",
    "# We need a test set with and without click feature: \n",
    "X_test = convert_test(test)"
   ]
  },
  {
   "cell_type": "markdown",
   "id": "acd25977",
   "metadata": {},
   "source": [
    "#### Run the following cell only if train and test datasets were saved on the disc:  "
   ]
  },
  {
   "cell_type": "code",
   "execution_count": 160,
   "id": "6f88a8d0",
   "metadata": {},
   "outputs": [],
   "source": [
    "# Upload saved datasets:  \n",
    "train = pd.read_csv('trains_featured.csv')\n",
    "test = pd.read_csv('test_featured.csv')\n",
    "\n",
    "# Drop column 'click_id' that was added in the merging step:\n",
    "train = train.drop('click_id', axis = 1)\n",
    "test = test.drop(columns = ['attributed_time' , 'is_attributed'])\n",
    "\n",
    "# Convert to numpy:\n",
    "X, y = convert_train(train)\n",
    "\n",
    "# We need a test set with and without click feature: \n",
    "X_test = convert_test(test)"
   ]
  },
  {
   "cell_type": "code",
   "execution_count": 147,
   "id": "a31533ca",
   "metadata": {},
   "outputs": [
    {
     "name": "stdout",
     "output_type": "stream",
     "text": [
      "Finished iteration: 0, Val score = 0.9738319375638578\n",
      "Finished iteration: 1, Val score = 0.971756651396644\n",
      "Finished iteration: 2, Val score = 0.9735030491218726\n",
      "Finished iteration: 3, Val score = 0.9731563626934836\n",
      "Finished iteration: 4, Val score = 0.970077476494061\n",
      "Finished iteration: 5, Val score = 0.970936353424312\n",
      "Finished iteration: 6, Val score = 0.972124194149275\n",
      "Finished iteration: 7, Val score = 0.9668448723704676\n",
      "Finished iteration: 8, Val score = 0.9717828430215503\n",
      "Finished iteration: 9, Val score = 0.9714872047892306\n",
      "Finished iteration: 10, Val score = 0.9733874662297747\n",
      "Finished iteration: 11, Val score = 0.9726917361431364\n",
      "Finished iteration: 12, Val score = 0.9735888463916257\n",
      "Finished iteration: 13, Val score = 0.9734418102885813\n",
      "Finished iteration: 14, Val score = 0.9734221055505742\n",
      "Finished iteration: 15, Val score = 0.9706095797729797\n",
      "Finished iteration: 16, Val score = 0.9716947065410668\n",
      "Finished iteration: 17, Val score = 0.9713882961450483\n",
      "Finished iteration: 18, Val score = 0.9713438609697901\n",
      "Finished iteration: 19, Val score = 0.971112433089154\n",
      "Finished iteration: 20, Val score = 0.9613015392091787\n",
      "Finished iteration: 21, Val score = 0.973483624499436\n",
      "Finished iteration: 22, Val score = 0.9742127456725764\n",
      "Finished iteration: 23, Val score = 0.9719395128068806\n",
      "Finished iteration: 24, Val score = 0.9723372490694413\n",
      "Finished iteration: 25, Val score = 0.9723833665762261\n",
      "Finished iteration: 26, Val score = 0.9727563887825633\n",
      "Finished iteration: 27, Val score = 0.9736077861356474\n",
      "Finished iteration: 28, Val score = 0.9723496511453789\n",
      "Finished iteration: 29, Val score = 0.9731752614849367\n"
     ]
    }
   ],
   "source": [
    "# Define a dictionary to store the results:\n",
    "XGBoost_F_Result = {}\n",
    "\n",
    "# Run over the different hyperparams sets:\n",
    "for i in range(len(param_list)): \n",
    "    \n",
    "    # Get hyperparam set for iteration:\n",
    "    params = param_list[i]\n",
    "    \n",
    "    # Define XGBoost model\n",
    "    XG = XGBClassifier(eval_metric = 'auc', use_label_encoder = False)                          \n",
    "    \n",
    "    # Assign hyperparameters to model\n",
    "    XG.set_params(**params)\n",
    "    \n",
    "    # Obtain the scores of train and validation, and the probas of final model\n",
    "    auc_train, auc_val, y_hat = fit_and_auc_score(XG, X, y, X_test, is_splitted = True)\n",
    "    \n",
    "    # Assign results in dictionary:\n",
    "    XGBoost_F_Result[i] = {'param': params, 'auc_train': auc_train, 'auc_val' : auc_val, 'y_hat' : y_hat}\n",
    "    \n",
    "    print(f'Finished iteration: {i}, Train score = {auc_train}, Val score = {auc_val}')"
   ]
  },
  {
   "cell_type": "markdown",
   "id": "68345646",
   "metadata": {},
   "source": [
    "#### CatBoost:"
   ]
  },
  {
   "cell_type": "code",
   "execution_count": 148,
   "id": "05ab5fc6",
   "metadata": {},
   "outputs": [],
   "source": [
    "Cat = CatBoostClassifier()\n",
    "\n",
    "params = {'depth':[6, 8, 10],\n",
    "          'iterations':[100, 200, 300],\n",
    "          'learning_rate':[0.001, 0.01, 0.03, 0.1], \n",
    "          'l2_leaf_reg':[1, 3, 10]}\n",
    "\n",
    "param_list = list(ParameterSampler(params, n_iter = 30)) "
   ]
  },
  {
   "cell_type": "code",
   "execution_count": 157,
   "id": "6d60e550",
   "metadata": {},
   "outputs": [
    {
     "name": "stderr",
     "output_type": "stream",
     "text": [
      "Custom logger is already specified. Specify more than one logger at same time is not thread safe."
     ]
    },
    {
     "name": "stdout",
     "output_type": "stream",
     "text": [
      "Finished iteration: 0, Train score = 0.9693052948240771, Val score = 0.9697314518591839\n",
      "Finished iteration: 1, Train score = 0.948381995038933, Val score = 0.9514747688373281\n",
      "Finished iteration: 2, Train score = 0.9399175153147756, Val score = 0.944670646959312\n",
      "Finished iteration: 3, Train score = 0.9334039338627111, Val score = 0.9372882617049206\n",
      "Finished iteration: 4, Train score = 0.9288614757958792, Val score = 0.9332793868966681\n",
      "Finished iteration: 5, Train score = 0.9709036822379453, Val score = 0.9700738562869784\n",
      "Finished iteration: 6, Train score = 0.9838978597564519, Val score = 0.97128715804302\n",
      "Finished iteration: 7, Train score = 0.9595333760680153, Val score = 0.9607740897801791\n",
      "Finished iteration: 8, Train score = 0.9274440623803236, Val score = 0.9324198874873713\n",
      "Finished iteration: 9, Train score = 0.9640681048056208, Val score = 0.96451745925624\n",
      "Finished iteration: 10, Train score = 0.9273876029722656, Val score = 0.9261538889158885\n",
      "Finished iteration: 11, Train score = 0.9813910579120396, Val score = 0.9717731634723871\n",
      "Finished iteration: 12, Train score = 0.979576421466728, Val score = 0.9711110914829998\n",
      "Finished iteration: 13, Train score = 0.9440719840796439, Val score = 0.9472841022999363\n",
      "Finished iteration: 14, Train score = 0.9601044190317782, Val score = 0.960908034166027\n",
      "Finished iteration: 15, Train score = 0.9321173027865514, Val score = 0.935483681846137\n",
      "Finished iteration: 16, Train score = 0.9278686431326358, Val score = 0.9319529118976773\n",
      "Finished iteration: 17, Train score = 0.9501610839283731, Val score = 0.9525213543238598\n",
      "Finished iteration: 18, Train score = 0.9673286872039946, Val score = 0.9677781912421929\n",
      "Finished iteration: 19, Train score = 0.9357840115371809, Val score = 0.9399392689130379\n",
      "Finished iteration: 20, Train score = 0.9572204799509166, Val score = 0.9583911761066017\n",
      "Finished iteration: 21, Train score = 0.9743350789686032, Val score = 0.971020425771867\n",
      "Finished iteration: 22, Train score = 0.9312191222468227, Val score = 0.9345545843652043\n",
      "Finished iteration: 23, Train score = 0.938599600819134, Val score = 0.942377154038776\n",
      "Finished iteration: 24, Train score = 0.9495342283986352, Val score = 0.9520744815311417\n",
      "Finished iteration: 25, Train score = 0.9695856614721295, Val score = 0.966735060514366\n",
      "Finished iteration: 26, Train score = 0.9490941380439207, Val score = 0.9521446087099666\n",
      "Finished iteration: 27, Train score = 0.9250890815395834, Val score = 0.9302773752213069\n",
      "Finished iteration: 28, Train score = 0.9755531583873018, Val score = 0.9713928123943362\n",
      "Finished iteration: 29, Train score = 0.9353215806172587, Val score = 0.9391798084388225\n"
     ]
    }
   ],
   "source": [
    "# Define a dictionary to store the results:\n",
    "CatBoost_F_Result = {}\n",
    "\n",
    "# Run over the different hyperparams sets:\n",
    "for i in range(len(param_list)): \n",
    "    \n",
    "    # Get hyperparam set for iteration:\n",
    "    params = param_list[i]\n",
    "    \n",
    "    # Define XGBoost model\n",
    "    Cat = CatBoostClassifier(verbose=False)                          \n",
    "    \n",
    "    # Assign hyperparameters to model\n",
    "    Cat.set_params(**params)\n",
    "    \n",
    "    # Obtain the scores of train and validation, and the probas of final model\n",
    "    auc_train, auc_val, y_hat = fit_and_auc_score(Cat, X, y, X_test, is_splitted = True)\n",
    "    \n",
    "    # Assign results in dictionary:\n",
    "    CatBoost_F_Result[i] = {'param': params, 'auc_train': auc_train, 'auc_val' : auc_val, 'y_hat' : y_hat}\n",
    "    \n",
    "    print(f'Finished iteration: {i}, Train score = {auc_train}, Val score = {auc_val}')"
   ]
  },
  {
   "cell_type": "markdown",
   "id": "f2ecfd10",
   "metadata": {},
   "source": [
    "We can see that the Cat Boost algorithm is not as good as the XGboost. Let's stick with the XGboost.  "
   ]
  },
  {
   "cell_type": "markdown",
   "id": "bd84277c",
   "metadata": {},
   "source": [
    "#### Tackeling the problen with Ensemble methods: \n",
    "\n",
    "Now we will try a different method, since the data is so large, computing feature engineering takes too long, we saved a downsampled dataset we already created, and we will use it.  \n",
    "\n",
    "The new method tries to tackle the problem and to increase the accuracy by using Ensembling method of several models where each model will be trained on a different data set - where each dataset contains the whole 'Fraud' samples and a downsampled quantity of 'Non fraud' samples. Therefore we will have a balanced data of 50-50 fraud/non-fraud samples in each dataset, making every model use a different random set of the non fraud samples.    \n",
    "\n",
    "We will write the stacking algorithm that computes the final results by our own."
   ]
  },
  {
   "cell_type": "markdown",
   "id": "ab115b05",
   "metadata": {},
   "source": [
    "Algorithm: \n",
    " - upload data\n",
    " - write a function that iterate for n XGboost models:\n",
    "    - downsamples the data to 1:1\n",
    "    - use different seed for each non froad examples generator\n",
    "    - generate random param set\n",
    "    - run 15 random combinations of param set and select the best model. \n",
    " - after we have n models that are trained on different param sets and different data set assemble all models by averaging the final results of all n models. "
   ]
  },
  {
   "cell_type": "code",
   "execution_count": 155,
   "id": "22b3bd0e",
   "metadata": {},
   "outputs": [
    {
     "name": "stderr",
     "output_type": "stream",
     "text": [
      "C:\\Users\\odedb\\anaconda3\\lib\\site-packages\\IPython\\core\\interactiveshell.py:3165: DtypeWarning: Columns (5) have mixed types.Specify dtype option on import or set low_memory=False.\n",
      "  has_raised = await self.run_ast_nodes(code_ast.body, cell_name,\n"
     ]
    }
   ],
   "source": [
    "# Upload saved datasets:  \n",
    "train = pd.read_csv('trains_featured.csv')\n",
    "test = pd.read_csv('test_featured.csv')\n",
    "\n",
    "# Drop column 'click_id' that was added in the merging step:\n",
    "train = train.drop('click_id', axis = 1)\n",
    "test = test.drop(columns = ['attributed_time' , 'is_attributed'])"
   ]
  },
  {
   "cell_type": "code",
   "execution_count": 159,
   "id": "73c76ad7",
   "metadata": {},
   "outputs": [],
   "source": [
    "def create_ensemble(train, n_models, X_test, param_dict, n_param_iter = 10, is_splitted = True):\n",
    "    \n",
    "    # \n",
    "    ensemble_dic = {}\n",
    "\n",
    "    for m in range(n_models):\n",
    "\n",
    "        # Downsample data to 1:1\n",
    "        train_downsampled = downsample(train, n = 15000, seed = np.random.randint(100))\n",
    "\n",
    "        # Convert to numpy:\n",
    "        X, y = convert_train(train_downsampled)\n",
    "\n",
    "        # Create a list of 30 randomly selected sets of hyperparameter. \n",
    "        param_list = list(ParameterSampler(param_dict, n_iter = n_param_iter))\n",
    "\n",
    "        # Define a dictionary to store the results:\n",
    "        XGBoost_Result = {}\n",
    "        vals = []\n",
    "\n",
    "        # Run over the different hyperparams sets:\n",
    "        print(f'Model no.: {m}\\n')\n",
    "        for i in range(n_param_iter): \n",
    "            ensemble_dic[m] = {}\n",
    "            # Get hyperparam set for iteration:\n",
    "            params = param_list[i]\n",
    "\n",
    "            # Define XGBoost model\n",
    "            XG = XGBClassifier(eval_metric = 'auc', use_label_encoder = False)                          \n",
    "\n",
    "            # Assign hyperparameters to model\n",
    "            XG.set_params(**params)\n",
    "\n",
    "            # Obtain the scores of train and validation, and the probas of final model\n",
    "            auc_train, auc_val, model = fit_and_auc_score(XG, X, y, X_test, is_splitted = is_splitted, return_model = True)\n",
    "\n",
    "            vals.append(auc_val)\n",
    "\n",
    "            # Assign results in dictionary:\n",
    "            XGBoost_Result[i] = {'model' : model, 'param': params, 'auc_train': auc_train, 'auc_val' : auc_val, 'y_hat' : y_hat}\n",
    "\n",
    "            print(f'iteration: {i}, Train score = {auc_train}, Val score = {auc_val}')\n",
    "\n",
    "        # Choose best model for this dataset: \n",
    "        # By finding the index of the best validations score: \n",
    "        best_ind = np.argmax(vals)\n",
    "        \n",
    "        # Assing best model to dictionary:\n",
    "        best_model = XGBoost_Result[best_ind]['model']\n",
    "        ensemble_dic[m]['best_model'] = best_model\n",
    "        \n",
    "        # Assign best model's params to dictionary:\n",
    "        ensemble_dic[m]['best_params'] = XGBoost_Result[best_ind]['param']\n",
    "        \n",
    "        # Predict probabilities using best model to X_test:\n",
    "        ensemble_dic[m]['predictions'] = best_model.predict_proba(X_test)\n",
    "        \n",
    "        # Keep track of run: \n",
    "        print(f'\\nBest model was acheived in iteration no.{best_ind}')\n",
    "    \n",
    "    return ensemble_dic"
   ]
  },
  {
   "cell_type": "code",
   "execution_count": 157,
   "id": "d5dc67e3",
   "metadata": {},
   "outputs": [],
   "source": [
    "def ensemble_predict(ensemble_dic, n_models):\n",
    "    # Get number of test samples: \n",
    "    probas_shape = ensemble_dic[0]['predictions'].shape\n",
    "    \n",
    "    # create empty probas matrix:\n",
    "    ensemble_probas = np.zeros((probas_shape[0], probas_shape[1], n_models))\n",
    "    \n",
    "    # append probas of different models to matrix\n",
    "    for i in range(n_models):\n",
    "        ensemble_probas[:,:,i] = ensemble_dic[i]['predictions']\n",
    "    \n",
    "    # compute mean probas (like voting but with probabilities... )\n",
    "    return np.mean(ensemble_probas, axis = 2)"
   ]
  },
  {
   "cell_type": "code",
   "execution_count": 158,
   "id": "47b5369a",
   "metadata": {},
   "outputs": [
    {
     "name": "stdout",
     "output_type": "stream",
     "text": [
      "Model no.: 0\n",
      "\n",
      "iteration: 0, Train score = 0.9695962097606048, Val score = 0.9709261190601176\n",
      "iteration: 1, Train score = 0.9740409543648559, Val score = 0.9715104942430759\n",
      "iteration: 2, Train score = 0.9898049340352087, Val score = 0.9735242021031155\n",
      "iteration: 3, Train score = 0.9963814810954628, Val score = 0.9714007440389067\n",
      "iteration: 4, Train score = 0.9740056767593585, Val score = 0.9718610796601911\n",
      "iteration: 5, Train score = 0.979301872950455, Val score = 0.9729089658772128\n",
      "iteration: 6, Train score = 0.9804483764340484, Val score = 0.9710386477504682\n",
      "iteration: 7, Train score = 0.980207403156009, Val score = 0.9720637603039664\n",
      "iteration: 8, Train score = 0.9669365923833463, Val score = 0.9693118682044926\n",
      "iteration: 9, Train score = 0.967709764577601, Val score = 0.9690453319943676\n",
      "iteration: 10, Train score = 0.986049392698296, Val score = 0.9734758762898875\n",
      "iteration: 11, Train score = 0.9970881798366455, Val score = 0.9678121306722051\n",
      "iteration: 12, Train score = 0.9876495197001686, Val score = 0.9731850283256742\n",
      "iteration: 13, Train score = 0.9861632176591179, Val score = 0.9738019514896159\n",
      "iteration: 14, Train score = 0.9881126590113453, Val score = 0.9716998778458394\n",
      "iteration: 15, Train score = 0.9796199447155489, Val score = 0.972852006910492\n",
      "iteration: 16, Train score = 0.9701356280914059, Val score = 0.9702509469180138\n",
      "iteration: 17, Train score = 0.9766850454827793, Val score = 0.9730666945838373\n",
      "iteration: 18, Train score = 0.9682616743339841, Val score = 0.9692066826561931\n",
      "iteration: 19, Train score = 0.9720755006813575, Val score = 0.9702644424223241\n",
      "iteration: 20, Train score = 0.9674659776908561, Val score = 0.9691459032709728\n",
      "iteration: 21, Train score = 0.9875901347961606, Val score = 0.9724276427620931\n",
      "iteration: 22, Train score = 0.9735535457311901, Val score = 0.9731228100815388\n",
      "iteration: 23, Train score = 0.99998930018572, Val score = 0.9664454131658567\n",
      "iteration: 24, Train score = 0.9929693464653768, Val score = 0.9730021443959422\n",
      "iteration: 25, Train score = 0.9769848459284385, Val score = 0.9738069130720829\n",
      "iteration: 26, Train score = 0.9680960827119947, Val score = 0.9696677625148475\n",
      "iteration: 27, Train score = 0.9949254027581155, Val score = 0.9698506464445796\n",
      "iteration: 28, Train score = 0.999179261304639, Val score = 0.9691373693491298\n",
      "iteration: 29, Train score = 0.98005473606216, Val score = 0.9727350127959212\n",
      "\n",
      "Best model was acheived in iteration no.25\n",
      "Model no.: 1\n",
      "\n",
      "iteration: 0, Train score = 0.9994518392844526, Val score = 0.9636070406839841\n",
      "iteration: 1, Train score = 0.9755045680682738, Val score = 0.9717629891748193\n",
      "iteration: 2, Train score = 0.9725048537010569, Val score = 0.9718768078766115\n",
      "iteration: 3, Train score = 0.981979428333152, Val score = 0.9720413339512158\n",
      "iteration: 4, Train score = 0.9697804596768635, Val score = 0.970508601895523\n",
      "iteration: 5, Train score = 0.9796633197034653, Val score = 0.9727459282773485\n",
      "iteration: 6, Train score = 0.9784202157973123, Val score = 0.9723757446094887\n",
      "iteration: 7, Train score = 0.9810702979416618, Val score = 0.969114496453957\n",
      "iteration: 8, Train score = 0.9655776979119272, Val score = 0.9686693432750214\n",
      "iteration: 9, Train score = 0.9784736878245537, Val score = 0.9702105596367328\n",
      "iteration: 10, Train score = 0.9998256418730681, Val score = 0.9662215465649477\n",
      "iteration: 11, Train score = 0.9946978417651707, Val score = 0.9670993993508266\n",
      "iteration: 12, Train score = 0.9859314139857127, Val score = 0.9709889823099739\n",
      "iteration: 13, Train score = 0.9653675796073646, Val score = 0.9683710529371079\n",
      "iteration: 14, Train score = 0.9662278925896113, Val score = 0.9689049688263774\n",
      "iteration: 15, Train score = 0.9907018833693553, Val score = 0.9664518136072391\n",
      "iteration: 16, Train score = 0.9688801213415918, Val score = 0.9711525656839096\n",
      "iteration: 17, Train score = 0.9999855750459635, Val score = 0.9667614163531775\n",
      "iteration: 18, Train score = 0.998830170498595, Val score = 0.9696745598828272\n",
      "iteration: 19, Train score = 0.9994963167453216, Val score = 0.9670780645462187\n",
      "iteration: 20, Train score = 0.9799935950711646, Val score = 0.9726507155098076\n",
      "iteration: 21, Train score = 0.9832635545653952, Val score = 0.9706729295068287\n",
      "iteration: 22, Train score = 0.9999800979251868, Val score = 0.9644800807348699\n",
      "iteration: 23, Train score = 0.9951825731849887, Val score = 0.9680473592969636\n",
      "iteration: 24, Train score = 0.9888657051110696, Val score = 0.969804950270059\n",
      "iteration: 25, Train score = 0.9845169272941193, Val score = 0.9727602672506779\n",
      "iteration: 26, Train score = 0.9998822512499237, Val score = 0.9690941043500179\n",
      "iteration: 27, Train score = 0.9666485466812076, Val score = 0.9690453816101922\n",
      "iteration: 28, Train score = 0.9999999937689182, Val score = 0.9633290432183601\n",
      "iteration: 29, Train score = 0.993086773793915, Val score = 0.9678359462680465\n",
      "\n",
      "Best model was acheived in iteration no.25\n",
      "Model no.: 2\n",
      "\n",
      "iteration: 0, Train score = 0.9939990181970065, Val score = 0.9694588798929885\n",
      "iteration: 1, Train score = 0.9805002833082741, Val score = 0.9727151168502287\n",
      "iteration: 2, Train score = 0.9839294927730295, Val score = 0.9735917788563155\n",
      "iteration: 3, Train score = 0.9773742580976547, Val score = 0.9723625964159514\n",
      "iteration: 4, Train score = 0.9683619453658261, Val score = 0.9702467791887415\n",
      "iteration: 5, Train score = 0.9959888222149831, Val score = 0.9720336434983918\n",
      "iteration: 6, Train score = 0.9878077111885191, Val score = 0.9731806621331034\n",
      "iteration: 7, Train score = 0.9793544372681324, Val score = 0.9717616495475532\n",
      "iteration: 8, Train score = 0.9995931017044766, Val score = 0.9645029040142179\n",
      "iteration: 9, Train score = 0.9835813686757484, Val score = 0.9735414684101007\n",
      "iteration: 10, Train score = 0.9696426545572437, Val score = 0.9711255250594646\n",
      "iteration: 11, Train score = 0.9789433980136173, Val score = 0.9730373716314576\n",
      "iteration: 12, Train score = 0.9804483764340484, Val score = 0.9710386477504682\n",
      "iteration: 13, Train score = 0.9994379699766451, Val score = 0.9674701784085823\n",
      "iteration: 14, Train score = 0.993898451159819, Val score = 0.9691117675836003\n",
      "iteration: 15, Train score = 0.9992871131891724, Val score = 0.9698805151710308\n",
      "iteration: 16, Train score = 0.9728415874423939, Val score = 0.9710525897972003\n",
      "iteration: 17, Train score = 0.9731956160673572, Val score = 0.9715236424366134\n",
      "iteration: 18, Train score = 0.9668814637246228, Val score = 0.9689112204202858\n",
      "iteration: 19, Train score = 0.9701493097700615, Val score = 0.9711720647030047\n",
      "iteration: 20, Train score = 0.9988087934775377, Val score = 0.969801328314858\n",
      "iteration: 21, Train score = 0.9786072294164503, Val score = 0.9731173523408249\n",
      "iteration: 22, Train score = 0.9924029324470623, Val score = 0.9711494895027799\n",
      "iteration: 23, Train score = 0.9829840267725928, Val score = 0.9736276014817271\n",
      "iteration: 24, Train score = 0.9738551377881515, Val score = 0.972523004377108\n",
      "iteration: 25, Train score = 0.9650136107931649, Val score = 0.9663269305765457\n",
      "iteration: 26, Train score = 0.9920187050451619, Val score = 0.9699558816087037\n",
      "iteration: 27, Train score = 0.9854702878402719, Val score = 0.971527611702587\n",
      "iteration: 28, Train score = 0.988685874920916, Val score = 0.9700392361941487\n",
      "iteration: 29, Train score = 0.983851257002279, Val score = 0.9734288404881006\n",
      "\n",
      "Best model was acheived in iteration no.23\n",
      "Model no.: 3\n",
      "\n",
      "iteration: 0, Train score = 0.9867504673606153, Val score = 0.9722514634158927\n",
      "iteration: 1, Train score = 0.9691715721588441, Val score = 0.9711900973969914\n",
      "iteration: 2, Train score = 0.9680250820435436, Val score = 0.9712551458215988\n",
      "iteration: 3, Train score = 0.9999881378024512, Val score = 0.9677418858664608\n",
      "iteration: 4, Train score = 0.9943078086254722, Val score = 0.9692093207694112\n",
      "iteration: 5, Train score = 0.9660555647512508, Val score = 0.9699111094175035\n",
      "iteration: 6, Train score = 0.999732303096492, Val score = 0.9691734969993375\n",
      "iteration: 7, Train score = 0.9784570686386622, Val score = 0.9748518126430719\n",
      "iteration: 8, Train score = 0.9719652910106074, Val score = 0.9722183686033731\n",
      "iteration: 9, Train score = 0.9684967227688801, Val score = 0.9713647010630431\n",
      "iteration: 10, Train score = 0.9687999719992328, Val score = 0.9714638862657817\n"
     ]
    },
    {
     "name": "stdout",
     "output_type": "stream",
     "text": [
      "iteration: 11, Train score = 0.9830826310214608, Val score = 0.9731511262953618\n",
      "iteration: 12, Train score = 0.9852945165596277, Val score = 0.9725903503267008\n",
      "iteration: 13, Train score = 0.9883506865321594, Val score = 0.9721412135307075\n",
      "iteration: 14, Train score = 0.9769914735720208, Val score = 0.9732534373949351\n",
      "iteration: 15, Train score = 0.9720219105753786, Val score = 0.9732191021471636\n",
      "iteration: 16, Train score = 0.9678162569025031, Val score = 0.9711212780492182\n",
      "iteration: 17, Train score = 0.966435317056604, Val score = 0.9694693159982011\n",
      "iteration: 18, Train score = 0.9766787763256055, Val score = 0.9744814186768663\n",
      "iteration: 19, Train score = 0.9749672992108749, Val score = 0.9731058255999637\n",
      "iteration: 20, Train score = 0.9760629793723361, Val score = 0.9728550592094477\n",
      "iteration: 21, Train score = 0.9719665681904904, Val score = 0.9725788887049736\n",
      "iteration: 22, Train score = 0.9902227207335663, Val score = 0.9725322979569138\n",
      "iteration: 23, Train score = 0.9732955486206558, Val score = 0.9736726052752437\n",
      "iteration: 24, Train score = 0.9771258484710924, Val score = 0.9734550329320676\n",
      "iteration: 25, Train score = 0.991753330486406, Val score = 0.969034469016309\n",
      "iteration: 26, Train score = 0.9850215209171412, Val score = 0.9722614861327277\n",
      "iteration: 27, Train score = 0.9889876784413432, Val score = 0.972518504316913\n",
      "iteration: 28, Train score = 0.97897850691915, Val score = 0.9723699497911505\n",
      "iteration: 29, Train score = 0.984366988032538, Val score = 0.9712723134454845\n",
      "\n",
      "Best model was acheived in iteration no.7\n",
      "Model no.: 4\n",
      "\n",
      "iteration: 0, Train score = 0.9996292961504508, Val score = 0.9630236147700693\n",
      "iteration: 1, Train score = 0.9782248891384278, Val score = 0.9676629817716397\n",
      "iteration: 2, Train score = 0.9682731980487684, Val score = 0.9679296622536853\n",
      "iteration: 3, Train score = 0.9762598273720694, Val score = 0.9703372798471734\n",
      "iteration: 4, Train score = 0.9999363619660118, Val score = 0.9622257071647826\n",
      "iteration: 5, Train score = 0.9810778344604258, Val score = 0.9720437570367125\n",
      "iteration: 6, Train score = 0.9690937531001118, Val score = 0.9683405010536212\n",
      "iteration: 7, Train score = 0.9809507109941752, Val score = 0.9702501893659695\n",
      "iteration: 8, Train score = 0.9863207968690213, Val score = 0.9700087179804774\n",
      "iteration: 9, Train score = 0.9669421123665305, Val score = 0.965725652776653\n",
      "iteration: 10, Train score = 0.9745153498432249, Val score = 0.9698089309278695\n",
      "iteration: 11, Train score = 0.9786856404634949, Val score = 0.9698602423566812\n",
      "iteration: 12, Train score = 0.9997010874766473, Val score = 0.9647768379614852\n",
      "iteration: 13, Train score = 0.9732868498925898, Val score = 0.9697831263408461\n",
      "iteration: 14, Train score = 0.989622229320244, Val score = 0.9675086008673519\n",
      "iteration: 15, Train score = 0.9997105799268574, Val score = 0.9632744651304601\n",
      "iteration: 16, Train score = 0.9999748923446211, Val score = 0.9572015540713287\n",
      "iteration: 17, Train score = 0.9689355673968543, Val score = 0.9685769603943258\n",
      "iteration: 18, Train score = 0.9784866789562339, Val score = 0.9681273154654434\n",
      "iteration: 19, Train score = 0.9660110331795205, Val score = 0.9658692652282792\n",
      "iteration: 20, Train score = 0.9846153293242099, Val score = 0.9706726402300659\n",
      "iteration: 21, Train score = 0.9894596399671843, Val score = 0.9705442624096243\n",
      "iteration: 22, Train score = 0.9680445757489211, Val score = 0.966625736621711\n",
      "iteration: 23, Train score = 0.9685170275777417, Val score = 0.9677718572791961\n",
      "iteration: 24, Train score = 0.9983835802336866, Val score = 0.9665657409568816\n",
      "iteration: 25, Train score = 0.9937204981545685, Val score = 0.9630260959803599\n",
      "iteration: 26, Train score = 0.9796794389598174, Val score = 0.9709708817070091\n",
      "iteration: 27, Train score = 0.9689107431446804, Val score = 0.9678097701724382\n",
      "iteration: 28, Train score = 0.9675963720229017, Val score = 0.9676141019289127\n",
      "iteration: 29, Train score = 0.9692679370700131, Val score = 0.9681883532385946\n",
      "\n",
      "Best model was acheived in iteration no.5\n"
     ]
    }
   ],
   "source": [
    "# Define different hyperparameters to search on: \n",
    "param_dict = {'eta' : [0.1, 0.2, 0.3, 0.4, 0.5],\n",
    "          'gamma' : [0, 1, 5, 10, 25],\n",
    "          'max_depth' : [4, 5, 6, 7, 8, 9],\n",
    "          'max_delta_step' : [0, 1, 2],\n",
    "          'subsample' : [0.6, 0.7, 0.8, 0.9, 1]}\n",
    "\n",
    "# Create a function that creates a dictionary of n models trained on differen datasets: \n",
    "n_param_iter = 30\n",
    "n_models = 5\n",
    "\n",
    "# Test Set:\n",
    "X_test = convert_test(test)\n",
    "\n",
    "ensemble_dic = create_ensemble(train, n_models, X_test, param_dict, n_param_iter = n_param_iter)\n",
    "ensemble_test = ensemble_predict(ensemble_dic, n_models)\n",
    "\n",
    "# Creating a sample submission for Kaggle:\n",
    "create_submission(test, ensemble_test, 'ensemble_test')"
   ]
  },
  {
   "cell_type": "markdown",
   "id": "ff10a615",
   "metadata": {},
   "source": [
    "## Work Summary: \n",
    "\n",
    "After a comprehensive EDA, we started the modeling stage. \n",
    "\n",
    "- The first step was creating a feature engineering funcion that convert click_time to a 'date_time' type, extract features from date and time and convert categorical features to type 'category'.\n",
    "\n",
    "\n",
    "- We Added a 'clicks' feature function that concatenates the training and test datasets and counts the total clicks per ip, and than splits the data again to train and test. \n",
    "\n",
    "\n",
    "- We explored the samples range through time and we noticed a huge space with missing data. As a result we wrote a function that splits the data and uses only the later part of the data as the training data ('2017-11-09 13:00:19'  - '2017-11-09 14:59:59')\n",
    "\n",
    "\n",
    "- Since the data is huge and very imbalanced we wrote a function that downsamples the data. Only the samples with is_atrributed = 0 are downsampled while the is_attributed = 1 samples are maintained. \n",
    "\n",
    "\n",
    "- We created 4 types of training data - with and without the clicks feature, and for each one - with or without splits. \n",
    "\n",
    "\n",
    "- We ran a sample run for each of the 4 training sets, using 3 different models: Decision Tree, Random forest and Adaboost. \n",
    "\n",
    "\n",
    "- For the splitted data sets we used a validation set which is composed of the final part of the data set, while in the non splitted datasets we used a validation set that is a random sub-set of the training set. \n",
    "\n",
    "\n",
    "- After reviewing the validation sets scores we saw that the best performance is obtained from the splitted data while using the 'clicks' feature. So from now on we will use only this training set. \n",
    "\n",
    "\n",
    "- We tried XGBoost classifier on the training data with the default parameters. \n",
    "\n",
    "\n",
    "- We found better hyperparameters using a random hyperparameter search. \n",
    "\n",
    "\n",
    "- To increase the accuracy we wrote a new feature engineering function - 'time_delta' which adds time delta before and after each click. (This function takes a very long time to compute - more than 24 hours on our computers, so we saved a sample of the data and used it for later runs).\n",
    "\n",
    "\n",
    "- After applying the new features we ran the XGBoost random hyperparameters tuning again and checked the results.\n",
    "\n",
    "\n",
    "- We wanted also to examine the CatBoost algorithm, so we ran a similar random hyperparameter tuning run for this model (suited to it), but the scores were lower. So we chose to continue with the XGBoost. \n",
    "\n",
    "\n",
    "- For the last part, we built am ensemble model, that uses 5 different XGBoost models with different hyperparameters, (each was chosen with random search). Each model was trained on a different part of the dataset - by using the downsampling function, we maintained the 'is_attributed = 1' samples and randomly selected 'is_attribute = 0' samples that each model will be trained on a balanced data. \n",
    "\n",
    "\n",
    "- The last part increased our accuracy a bit and acheived our best results, also submitted to Kaggle (0.98034). "
   ]
  }
 ],
 "metadata": {
  "kernelspec": {
   "display_name": "Python 3",
   "language": "python",
   "name": "python3"
  },
  "language_info": {
   "codemirror_mode": {
    "name": "ipython",
    "version": 3
   },
   "file_extension": ".py",
   "mimetype": "text/x-python",
   "name": "python",
   "nbconvert_exporter": "python",
   "pygments_lexer": "ipython3",
   "version": "3.8.8"
  }
 },
 "nbformat": 4,
 "nbformat_minor": 5
}
